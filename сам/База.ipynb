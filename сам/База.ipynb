{
 "cells": [
  {
   "cell_type": "code",
   "execution_count": null,
   "metadata": {},
   "outputs": [],
   "source": [
    "N = int(input())\n",
    "\n",
    "S = 0\n",
    "for i in range(N):\n",
    "    for j in range(N):\n",
    "        S = i + j\n",
    "\n",
    "print(S)"
   ]
  },
  {
   "cell_type": "markdown",
   "metadata": {},
   "source": [
    "- Асимптотическая сложность - O(N^2)\n",
    "- N + N-1 + N-2 + ... + 1 = Sn = (N + 1)N/2 ~ N^2"
   ]
  },
  {
   "cell_type": "markdown",
   "metadata": {},
   "source": [
    "- Алгоритмы - пошаговые иструкции для выполнения задач (от сортировки списка до ML)\n",
    "- Структуры данных - способы организации и хранения данных для эффективного использования"
   ]
  },
  {
   "cell_type": "markdown",
   "metadata": {},
   "source": [
    "ОСНОВНЫЕ СТРУКТУРЫ ДАННЫХ В PYTHON\n",
    "\n",
    "- Cписки (list):\n",
    "    - Упорядоченные коллекции элементов\n",
    "    - могут содержать данные любого типа\n",
    "    - позволяют добавлять, удалять и изменять элементы -> удобны для работы с динамическими данными\n",
    "- Словари (dict):\n",
    "    - Неупорядоченные коллекции пар \"ключ - значение\"\n",
    "    - полезны дл хранения данных, связанных с уникальными ключами, как имена пользователей и их данные\n",
    "- Множества (set):\n",
    "    - Неупорядоченные коллекции уникальных элементов\n",
    "    - Автоматически удаляют дублирующиеся элементы\n",
    "    - Полезны для задач с уникальными значениями, и если необходимо применить операции объединения, пересечения и разности множеств\n",
    "- Кортежи (tuple):\n",
    "    - упорядоченные коллекции НЕИЗМЕНЯЕМЫХ элементов\n",
    "    - полезны для хранения данных, которые не должны изменяться в ходе выполнения программы"
   ]
  },
  {
   "cell_type": "code",
   "execution_count": null,
   "metadata": {},
   "outputs": [],
   "source": [
    "# Пример создания списка\n",
    "my_list = [1, 2, 3, 4, 5]\n",
    "print(my_list)\n",
    "\n",
    "# Добавление элемента в список\n",
    "my_list.append(6)\n",
    "print(my_list)\n",
    "\n",
    "# Удаление элемента из списка\n",
    "my_list.remove(3)\n",
    "print(my_list)\n",
    "\n",
    "# Доступ к элементу по индексу\n",
    "print(my_list[2])"
   ]
  },
  {
   "cell_type": "code",
   "execution_count": null,
   "metadata": {},
   "outputs": [],
   "source": [
    "my_dict = {'name': 'Alice', 'age': 25, 'city': 'New York'}\n",
    "print(my_dict)\n",
    "\n",
    "# Добавление новой пары ключ-значение\n",
    "my_dict['email'] = 'alice@example.com'\n",
    "print(my_dict)\n",
    "\n",
    "# Удаление пары ключ-значение\n",
    "del my_dict['age']\n",
    "print(my_dict)\n",
    "\n",
    "# Доступ к значению по ключу\n",
    "print(my_dict['name'])"
   ]
  },
  {
   "cell_type": "code",
   "execution_count": null,
   "metadata": {},
   "outputs": [],
   "source": [
    "# Пример создания множества\n",
    "my_set = {1, 2, 3, 4, 5}\n",
    "print(my_set)\n",
    "\n",
    "# Добавление элемента в множество\n",
    "my_set.add(6)\n",
    "print(my_set)\n",
    "\n",
    "# Удаление элемента из множества\n",
    "my_set.remove(3)\n",
    "print(my_set)\n",
    "\n",
    "# Проверка наличия элемента в множестве\n",
    "print(4 in my_set)"
   ]
  },
  {
   "cell_type": "code",
   "execution_count": null,
   "metadata": {},
   "outputs": [],
   "source": [
    "# Пример создания кортежа\n",
    "my_tuple = (1, 2, 3, 4, 5)\n",
    "print(my_tuple)\n",
    "\n",
    "# Доступ к элементу по индексу\n",
    "print(my_tuple[2])\n",
    "\n",
    "# Попытка изменить элемент (вызовет ошибку)\n",
    "# my_tuple[2] = 10"
   ]
  },
  {
   "cell_type": "markdown",
   "metadata": {},
   "source": [
    "БАЗОВЫЕ АЛГОРИТМЫ И ИХ РЕАЛИЗАЦИЯ"
   ]
  },
  {
   "cell_type": "markdown",
   "metadata": {},
   "source": [
    "Сортировка пузырьком:\n",
    "- многократно проходится по списку, сравнивая соседние элементы и меняя их местами при необходимости\n",
    "- говно"
   ]
  },
  {
   "cell_type": "code",
   "execution_count": 1,
   "metadata": {},
   "outputs": [
    {
     "name": "stdout",
     "output_type": "stream",
     "text": [
      "[11, 12, 22, 25, 34, 64, 90]\n"
     ]
    }
   ],
   "source": [
    "def bubble_sort(arr):\n",
    "    n = len(arr)\n",
    "    for i in range(n):\n",
    "        for j in range(0, n-i-1):\n",
    "            if arr[j] > arr[j+1]:\n",
    "                arr[j], arr[j+1] = arr[j+1], arr[j]\n",
    "    return arr\n",
    "\n",
    "#\n",
    "my_list = [64, 34, 25, 12, 22, 11, 90]\n",
    "sorted_list = bubble_sort(my_list)\n",
    "print(sorted_list) "
   ]
  },
  {
   "cell_type": "markdown",
   "metadata": {},
   "source": [
    "Бинарный поиск:\n",
    "- эффективный алгоритм поиска\n",
    "- работает с отсортированными списками\n",
    "- Делит список пополам и сравнивает средний элемент с искомым значением\n",
    "- Если средний элемент не совпадает с искомым - процесс повторяется с одной из половин списка"
   ]
  },
  {
   "cell_type": "code",
   "execution_count": 2,
   "metadata": {},
   "outputs": [
    {
     "name": "stdout",
     "output_type": "stream",
     "text": [
      "Элемент найден на индексе 3\n"
     ]
    }
   ],
   "source": [
    "def binary_search(arr, x):\n",
    "    low = 0\n",
    "    high = len(arr) - 1\n",
    "    mid = 0\n",
    "\n",
    "    while low <= high:\n",
    "        mid = (high + low) // 2\n",
    "\n",
    "        if arr[mid] < x:\n",
    "            low = mid + 1\n",
    "        elif arr[mid] > x:\n",
    "            high = mid - 1\n",
    "        else:\n",
    "            return mid\n",
    "    return -1\n",
    "\n",
    "# Пример использования\n",
    "my_list = [1, 2, 3, 4, 5, 6, 7, 8, 9]\n",
    "print(f'Элемент найден на индексе {binary_search(my_list, 4)}')"
   ]
  },
  {
   "cell_type": "markdown",
   "metadata": {},
   "source": [
    "ПРАКТИЧЕСКИЕ ПРИМЕРЫ И ЗАДАЧИ"
   ]
  },
  {
   "cell_type": "markdown",
   "metadata": {},
   "source": [
    "1 - Поиск максимального элемента в списке:\n",
    "- простой перебор всех элементов списка и сравнения их значений"
   ]
  },
  {
   "cell_type": "code",
   "execution_count": 3,
   "metadata": {},
   "outputs": [
    {
     "name": "stdout",
     "output_type": "stream",
     "text": [
      "Максимальный элемент: 99\n"
     ]
    }
   ],
   "source": [
    "def find_max(arr):\n",
    "    max_element = arr[0]\n",
    "    for num in arr:\n",
    "        if num > max_element:\n",
    "            max_element = num\n",
    "    return max_element\n",
    "\n",
    "# Пример использования\n",
    "my_list = [10, 20, 4, 45, 99]\n",
    "max_value = find_max(my_list)\n",
    "print(f'Максимальный элемент: {max_value}')"
   ]
  },
  {
   "cell_type": "markdown",
   "metadata": {},
   "source": [
    "2 - Проверка на палиндром"
   ]
  },
  {
   "cell_type": "code",
   "execution_count": 5,
   "metadata": {},
   "outputs": [
    {
     "name": "stdout",
     "output_type": "stream",
     "text": [
      "Слово \"radar\" палиндром? True\n"
     ]
    }
   ],
   "source": [
    "def is_palindrom(s):\n",
    "    return s == s[::-1]\n",
    "\n",
    "word = 'radar'\n",
    "print(f'Слово \"{word}\" палиндром? {is_palindrom(word)}')"
   ]
  }
 ],
 "metadata": {
  "kernelspec": {
   "display_name": "Python 3",
   "language": "python",
   "name": "python3"
  },
  "language_info": {
   "codemirror_mode": {
    "name": "ipython",
    "version": 3
   },
   "file_extension": ".py",
   "mimetype": "text/x-python",
   "name": "python",
   "nbconvert_exporter": "python",
   "pygments_lexer": "ipython3",
   "version": "3.11.9"
  }
 },
 "nbformat": 4,
 "nbformat_minor": 2
}
